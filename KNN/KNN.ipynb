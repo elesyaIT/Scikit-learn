{
 "cells": [
  {
   "cell_type": "code",
   "execution_count": 1,
   "id": "f02a3b25",
   "metadata": {},
   "outputs": [],
   "source": [
    "import pandas as pd\n",
    "import numpy as np\n",
    "\n",
    "from sklearn.metrics import accuracy_score\n",
    "import matplotlib.pyplot as plt\n",
    "\n",
    "%matplotlib inline"
   ]
  },
  {
   "cell_type": "code",
   "execution_count": 2,
   "id": "1aa7a5de",
   "metadata": {},
   "outputs": [],
   "source": [
    "from sklearn.neighbors import KNeighborsClassifier"
   ]
  },
  {
   "cell_type": "code",
   "execution_count": 3,
   "id": "bf2b4a87",
   "metadata": {},
   "outputs": [],
   "source": [
    "X_train=pd.read_pickle('X_train.pkl')\n",
    "y_train=pd.read_pickle('y_train.pkl')\n",
    "\n",
    "X_valid=pd.read_pickle('X_valid.pkl')\n",
    "y_valid=pd.read_pickle('y_valid.pkl')"
   ]
  },
  {
   "cell_type": "markdown",
   "id": "47aca726",
   "metadata": {},
   "source": [
    "### Масшабируем с помощью RobustScaler"
   ]
  },
  {
   "cell_type": "code",
   "execution_count": 4,
   "id": "8bd25b45",
   "metadata": {},
   "outputs": [],
   "source": [
    "from sklearn.preprocessing import RobustScaler"
   ]
  },
  {
   "cell_type": "code",
   "execution_count": 5,
   "id": "8734f7e1",
   "metadata": {},
   "outputs": [
    {
     "data": {
      "text/html": [
       "<div>\n",
       "<style scoped>\n",
       "    .dataframe tbody tr th:only-of-type {\n",
       "        vertical-align: middle;\n",
       "    }\n",
       "\n",
       "    .dataframe tbody tr th {\n",
       "        vertical-align: top;\n",
       "    }\n",
       "\n",
       "    .dataframe thead th {\n",
       "        text-align: right;\n",
       "    }\n",
       "</style>\n",
       "<table border=\"1\" class=\"dataframe\">\n",
       "  <thead>\n",
       "    <tr style=\"text-align: right;\">\n",
       "      <th></th>\n",
       "      <th>Sex</th>\n",
       "      <th>Age</th>\n",
       "      <th>SibSp</th>\n",
       "      <th>Parch</th>\n",
       "      <th>Fare</th>\n",
       "      <th>Embarked_C</th>\n",
       "      <th>Embarked_Q</th>\n",
       "      <th>Embarked_S</th>\n",
       "      <th>Pclass_1</th>\n",
       "      <th>Pclass_2</th>\n",
       "      <th>Pclass_3</th>\n",
       "    </tr>\n",
       "  </thead>\n",
       "  <tbody>\n",
       "    <tr>\n",
       "      <th>count</th>\n",
       "      <td>668.000000</td>\n",
       "      <td>668.000000</td>\n",
       "      <td>668.000000</td>\n",
       "      <td>668.000000</td>\n",
       "      <td>668.000000</td>\n",
       "      <td>668.00000</td>\n",
       "      <td>668.000000</td>\n",
       "      <td>668.000000</td>\n",
       "      <td>668.000000</td>\n",
       "      <td>668.000000</td>\n",
       "      <td>668.000000</td>\n",
       "    </tr>\n",
       "    <tr>\n",
       "      <th>mean</th>\n",
       "      <td>0.342814</td>\n",
       "      <td>29.476233</td>\n",
       "      <td>0.553892</td>\n",
       "      <td>0.372754</td>\n",
       "      <td>32.179397</td>\n",
       "      <td>0.17515</td>\n",
       "      <td>0.086826</td>\n",
       "      <td>0.738024</td>\n",
       "      <td>0.227545</td>\n",
       "      <td>0.211078</td>\n",
       "      <td>0.561377</td>\n",
       "    </tr>\n",
       "    <tr>\n",
       "      <th>std</th>\n",
       "      <td>0.475006</td>\n",
       "      <td>13.009962</td>\n",
       "      <td>1.185279</td>\n",
       "      <td>0.795588</td>\n",
       "      <td>51.604012</td>\n",
       "      <td>0.38038</td>\n",
       "      <td>0.281791</td>\n",
       "      <td>0.440039</td>\n",
       "      <td>0.419561</td>\n",
       "      <td>0.408379</td>\n",
       "      <td>0.496590</td>\n",
       "    </tr>\n",
       "    <tr>\n",
       "      <th>min</th>\n",
       "      <td>0.000000</td>\n",
       "      <td>0.420000</td>\n",
       "      <td>0.000000</td>\n",
       "      <td>0.000000</td>\n",
       "      <td>0.000000</td>\n",
       "      <td>0.00000</td>\n",
       "      <td>0.000000</td>\n",
       "      <td>0.000000</td>\n",
       "      <td>0.000000</td>\n",
       "      <td>0.000000</td>\n",
       "      <td>0.000000</td>\n",
       "    </tr>\n",
       "    <tr>\n",
       "      <th>25%</th>\n",
       "      <td>0.000000</td>\n",
       "      <td>22.000000</td>\n",
       "      <td>0.000000</td>\n",
       "      <td>0.000000</td>\n",
       "      <td>7.925000</td>\n",
       "      <td>0.00000</td>\n",
       "      <td>0.000000</td>\n",
       "      <td>0.000000</td>\n",
       "      <td>0.000000</td>\n",
       "      <td>0.000000</td>\n",
       "      <td>0.000000</td>\n",
       "    </tr>\n",
       "    <tr>\n",
       "      <th>50%</th>\n",
       "      <td>0.000000</td>\n",
       "      <td>29.699118</td>\n",
       "      <td>0.000000</td>\n",
       "      <td>0.000000</td>\n",
       "      <td>14.400000</td>\n",
       "      <td>0.00000</td>\n",
       "      <td>0.000000</td>\n",
       "      <td>1.000000</td>\n",
       "      <td>0.000000</td>\n",
       "      <td>0.000000</td>\n",
       "      <td>1.000000</td>\n",
       "    </tr>\n",
       "    <tr>\n",
       "      <th>75%</th>\n",
       "      <td>1.000000</td>\n",
       "      <td>35.000000</td>\n",
       "      <td>1.000000</td>\n",
       "      <td>0.000000</td>\n",
       "      <td>30.500000</td>\n",
       "      <td>0.00000</td>\n",
       "      <td>0.000000</td>\n",
       "      <td>1.000000</td>\n",
       "      <td>0.000000</td>\n",
       "      <td>0.000000</td>\n",
       "      <td>1.000000</td>\n",
       "    </tr>\n",
       "    <tr>\n",
       "      <th>max</th>\n",
       "      <td>1.000000</td>\n",
       "      <td>80.000000</td>\n",
       "      <td>8.000000</td>\n",
       "      <td>6.000000</td>\n",
       "      <td>512.329200</td>\n",
       "      <td>1.00000</td>\n",
       "      <td>1.000000</td>\n",
       "      <td>1.000000</td>\n",
       "      <td>1.000000</td>\n",
       "      <td>1.000000</td>\n",
       "      <td>1.000000</td>\n",
       "    </tr>\n",
       "  </tbody>\n",
       "</table>\n",
       "</div>"
      ],
      "text/plain": [
       "              Sex         Age       SibSp       Parch        Fare  Embarked_C  \\\n",
       "count  668.000000  668.000000  668.000000  668.000000  668.000000   668.00000   \n",
       "mean     0.342814   29.476233    0.553892    0.372754   32.179397     0.17515   \n",
       "std      0.475006   13.009962    1.185279    0.795588   51.604012     0.38038   \n",
       "min      0.000000    0.420000    0.000000    0.000000    0.000000     0.00000   \n",
       "25%      0.000000   22.000000    0.000000    0.000000    7.925000     0.00000   \n",
       "50%      0.000000   29.699118    0.000000    0.000000   14.400000     0.00000   \n",
       "75%      1.000000   35.000000    1.000000    0.000000   30.500000     0.00000   \n",
       "max      1.000000   80.000000    8.000000    6.000000  512.329200     1.00000   \n",
       "\n",
       "       Embarked_Q  Embarked_S    Pclass_1    Pclass_2    Pclass_3  \n",
       "count  668.000000  668.000000  668.000000  668.000000  668.000000  \n",
       "mean     0.086826    0.738024    0.227545    0.211078    0.561377  \n",
       "std      0.281791    0.440039    0.419561    0.408379    0.496590  \n",
       "min      0.000000    0.000000    0.000000    0.000000    0.000000  \n",
       "25%      0.000000    0.000000    0.000000    0.000000    0.000000  \n",
       "50%      0.000000    1.000000    0.000000    0.000000    1.000000  \n",
       "75%      0.000000    1.000000    0.000000    0.000000    1.000000  \n",
       "max      1.000000    1.000000    1.000000    1.000000    1.000000  "
      ]
     },
     "execution_count": 5,
     "metadata": {},
     "output_type": "execute_result"
    }
   ],
   "source": [
    "X_train.describe()"
   ]
  },
  {
   "cell_type": "code",
   "execution_count": 6,
   "id": "7264f600",
   "metadata": {},
   "outputs": [],
   "source": [
    "cols_for_scale=['Age','SibSp','Parch','Fare']"
   ]
  },
  {
   "cell_type": "code",
   "execution_count": 7,
   "id": "c12881d0",
   "metadata": {},
   "outputs": [],
   "source": [
    "scaler =  RobustScaler()"
   ]
  },
  {
   "cell_type": "code",
   "execution_count": 8,
   "id": "e307adda",
   "metadata": {},
   "outputs": [],
   "source": [
    "X_train[cols_for_scale]=scaler.fit_transform(X_train[cols_for_scale])"
   ]
  },
  {
   "cell_type": "code",
   "execution_count": 9,
   "id": "86ecb0e2",
   "metadata": {},
   "outputs": [
    {
     "data": {
      "text/html": [
       "<div>\n",
       "<style scoped>\n",
       "    .dataframe tbody tr th:only-of-type {\n",
       "        vertical-align: middle;\n",
       "    }\n",
       "\n",
       "    .dataframe tbody tr th {\n",
       "        vertical-align: top;\n",
       "    }\n",
       "\n",
       "    .dataframe thead th {\n",
       "        text-align: right;\n",
       "    }\n",
       "</style>\n",
       "<table border=\"1\" class=\"dataframe\">\n",
       "  <thead>\n",
       "    <tr style=\"text-align: right;\">\n",
       "      <th></th>\n",
       "      <th>Sex</th>\n",
       "      <th>Age</th>\n",
       "      <th>SibSp</th>\n",
       "      <th>Parch</th>\n",
       "      <th>Fare</th>\n",
       "      <th>Embarked_C</th>\n",
       "      <th>Embarked_Q</th>\n",
       "      <th>Embarked_S</th>\n",
       "      <th>Pclass_1</th>\n",
       "      <th>Pclass_2</th>\n",
       "      <th>Pclass_3</th>\n",
       "    </tr>\n",
       "  </thead>\n",
       "  <tbody>\n",
       "    <tr>\n",
       "      <th>count</th>\n",
       "      <td>668.000000</td>\n",
       "      <td>668.000000</td>\n",
       "      <td>668.000000</td>\n",
       "      <td>668.000000</td>\n",
       "      <td>668.000000</td>\n",
       "      <td>668.00000</td>\n",
       "      <td>668.000000</td>\n",
       "      <td>668.000000</td>\n",
       "      <td>668.000000</td>\n",
       "      <td>668.000000</td>\n",
       "      <td>668.000000</td>\n",
       "    </tr>\n",
       "    <tr>\n",
       "      <th>mean</th>\n",
       "      <td>0.342814</td>\n",
       "      <td>-0.017145</td>\n",
       "      <td>0.553892</td>\n",
       "      <td>0.372754</td>\n",
       "      <td>0.787570</td>\n",
       "      <td>0.17515</td>\n",
       "      <td>0.086826</td>\n",
       "      <td>0.738024</td>\n",
       "      <td>0.227545</td>\n",
       "      <td>0.211078</td>\n",
       "      <td>0.561377</td>\n",
       "    </tr>\n",
       "    <tr>\n",
       "      <th>std</th>\n",
       "      <td>0.475006</td>\n",
       "      <td>1.000766</td>\n",
       "      <td>1.185279</td>\n",
       "      <td>0.795588</td>\n",
       "      <td>2.285892</td>\n",
       "      <td>0.38038</td>\n",
       "      <td>0.281791</td>\n",
       "      <td>0.440039</td>\n",
       "      <td>0.419561</td>\n",
       "      <td>0.408379</td>\n",
       "      <td>0.496590</td>\n",
       "    </tr>\n",
       "    <tr>\n",
       "      <th>min</th>\n",
       "      <td>0.000000</td>\n",
       "      <td>-2.252240</td>\n",
       "      <td>0.000000</td>\n",
       "      <td>0.000000</td>\n",
       "      <td>-0.637874</td>\n",
       "      <td>0.00000</td>\n",
       "      <td>0.000000</td>\n",
       "      <td>0.000000</td>\n",
       "      <td>0.000000</td>\n",
       "      <td>0.000000</td>\n",
       "      <td>0.000000</td>\n",
       "    </tr>\n",
       "    <tr>\n",
       "      <th>25%</th>\n",
       "      <td>0.000000</td>\n",
       "      <td>-0.592240</td>\n",
       "      <td>0.000000</td>\n",
       "      <td>0.000000</td>\n",
       "      <td>-0.286822</td>\n",
       "      <td>0.00000</td>\n",
       "      <td>0.000000</td>\n",
       "      <td>0.000000</td>\n",
       "      <td>0.000000</td>\n",
       "      <td>0.000000</td>\n",
       "      <td>0.000000</td>\n",
       "    </tr>\n",
       "    <tr>\n",
       "      <th>50%</th>\n",
       "      <td>0.000000</td>\n",
       "      <td>0.000000</td>\n",
       "      <td>0.000000</td>\n",
       "      <td>0.000000</td>\n",
       "      <td>0.000000</td>\n",
       "      <td>0.00000</td>\n",
       "      <td>0.000000</td>\n",
       "      <td>1.000000</td>\n",
       "      <td>0.000000</td>\n",
       "      <td>0.000000</td>\n",
       "      <td>1.000000</td>\n",
       "    </tr>\n",
       "    <tr>\n",
       "      <th>75%</th>\n",
       "      <td>1.000000</td>\n",
       "      <td>0.407760</td>\n",
       "      <td>1.000000</td>\n",
       "      <td>0.000000</td>\n",
       "      <td>0.713178</td>\n",
       "      <td>0.00000</td>\n",
       "      <td>0.000000</td>\n",
       "      <td>1.000000</td>\n",
       "      <td>0.000000</td>\n",
       "      <td>0.000000</td>\n",
       "      <td>1.000000</td>\n",
       "    </tr>\n",
       "    <tr>\n",
       "      <th>max</th>\n",
       "      <td>1.000000</td>\n",
       "      <td>3.869299</td>\n",
       "      <td>8.000000</td>\n",
       "      <td>6.000000</td>\n",
       "      <td>22.056664</td>\n",
       "      <td>1.00000</td>\n",
       "      <td>1.000000</td>\n",
       "      <td>1.000000</td>\n",
       "      <td>1.000000</td>\n",
       "      <td>1.000000</td>\n",
       "      <td>1.000000</td>\n",
       "    </tr>\n",
       "  </tbody>\n",
       "</table>\n",
       "</div>"
      ],
      "text/plain": [
       "              Sex         Age       SibSp       Parch        Fare  Embarked_C  \\\n",
       "count  668.000000  668.000000  668.000000  668.000000  668.000000   668.00000   \n",
       "mean     0.342814   -0.017145    0.553892    0.372754    0.787570     0.17515   \n",
       "std      0.475006    1.000766    1.185279    0.795588    2.285892     0.38038   \n",
       "min      0.000000   -2.252240    0.000000    0.000000   -0.637874     0.00000   \n",
       "25%      0.000000   -0.592240    0.000000    0.000000   -0.286822     0.00000   \n",
       "50%      0.000000    0.000000    0.000000    0.000000    0.000000     0.00000   \n",
       "75%      1.000000    0.407760    1.000000    0.000000    0.713178     0.00000   \n",
       "max      1.000000    3.869299    8.000000    6.000000   22.056664     1.00000   \n",
       "\n",
       "       Embarked_Q  Embarked_S    Pclass_1    Pclass_2    Pclass_3  \n",
       "count  668.000000  668.000000  668.000000  668.000000  668.000000  \n",
       "mean     0.086826    0.738024    0.227545    0.211078    0.561377  \n",
       "std      0.281791    0.440039    0.419561    0.408379    0.496590  \n",
       "min      0.000000    0.000000    0.000000    0.000000    0.000000  \n",
       "25%      0.000000    0.000000    0.000000    0.000000    0.000000  \n",
       "50%      0.000000    1.000000    0.000000    0.000000    1.000000  \n",
       "75%      0.000000    1.000000    0.000000    0.000000    1.000000  \n",
       "max      1.000000    1.000000    1.000000    1.000000    1.000000  "
      ]
     },
     "execution_count": 9,
     "metadata": {},
     "output_type": "execute_result"
    }
   ],
   "source": [
    "X_train.describe()"
   ]
  },
  {
   "cell_type": "code",
   "execution_count": 10,
   "id": "fcc6d9f7",
   "metadata": {},
   "outputs": [],
   "source": [
    "X_valid[cols_for_scale]= scaler.transform(X_valid[cols_for_scale])"
   ]
  },
  {
   "cell_type": "code",
   "execution_count": 11,
   "id": "2bf9cc35",
   "metadata": {},
   "outputs": [
    {
     "data": {
      "text/html": [
       "<div>\n",
       "<style scoped>\n",
       "    .dataframe tbody tr th:only-of-type {\n",
       "        vertical-align: middle;\n",
       "    }\n",
       "\n",
       "    .dataframe tbody tr th {\n",
       "        vertical-align: top;\n",
       "    }\n",
       "\n",
       "    .dataframe thead th {\n",
       "        text-align: right;\n",
       "    }\n",
       "</style>\n",
       "<table border=\"1\" class=\"dataframe\">\n",
       "  <thead>\n",
       "    <tr style=\"text-align: right;\">\n",
       "      <th></th>\n",
       "      <th>Sex</th>\n",
       "      <th>Age</th>\n",
       "      <th>SibSp</th>\n",
       "      <th>Parch</th>\n",
       "      <th>Fare</th>\n",
       "      <th>Embarked_C</th>\n",
       "      <th>Embarked_Q</th>\n",
       "      <th>Embarked_S</th>\n",
       "      <th>Pclass_1</th>\n",
       "      <th>Pclass_2</th>\n",
       "      <th>Pclass_3</th>\n",
       "    </tr>\n",
       "  </thead>\n",
       "  <tbody>\n",
       "    <tr>\n",
       "      <th>count</th>\n",
       "      <td>223.000000</td>\n",
       "      <td>223.000000</td>\n",
       "      <td>223.000000</td>\n",
       "      <td>223.000000</td>\n",
       "      <td>223.000000</td>\n",
       "      <td>223.00000</td>\n",
       "      <td>223.000000</td>\n",
       "      <td>223.000000</td>\n",
       "      <td>223.000000</td>\n",
       "      <td>223.000000</td>\n",
       "      <td>223.000000</td>\n",
       "    </tr>\n",
       "    <tr>\n",
       "      <th>mean</th>\n",
       "      <td>0.381166</td>\n",
       "      <td>0.051358</td>\n",
       "      <td>0.430493</td>\n",
       "      <td>0.408072</td>\n",
       "      <td>0.791961</td>\n",
       "      <td>0.22870</td>\n",
       "      <td>0.085202</td>\n",
       "      <td>0.686099</td>\n",
       "      <td>0.286996</td>\n",
       "      <td>0.192825</td>\n",
       "      <td>0.520179</td>\n",
       "    </tr>\n",
       "    <tr>\n",
       "      <th>std</th>\n",
       "      <td>0.486766</td>\n",
       "      <td>0.998803</td>\n",
       "      <td>0.801667</td>\n",
       "      <td>0.837912</td>\n",
       "      <td>1.930379</td>\n",
       "      <td>0.42094</td>\n",
       "      <td>0.279810</td>\n",
       "      <td>0.465121</td>\n",
       "      <td>0.453377</td>\n",
       "      <td>0.395404</td>\n",
       "      <td>0.500717</td>\n",
       "    </tr>\n",
       "    <tr>\n",
       "      <th>min</th>\n",
       "      <td>0.000000</td>\n",
       "      <td>-2.220701</td>\n",
       "      <td>0.000000</td>\n",
       "      <td>0.000000</td>\n",
       "      <td>-0.637874</td>\n",
       "      <td>0.00000</td>\n",
       "      <td>0.000000</td>\n",
       "      <td>0.000000</td>\n",
       "      <td>0.000000</td>\n",
       "      <td>0.000000</td>\n",
       "      <td>0.000000</td>\n",
       "    </tr>\n",
       "    <tr>\n",
       "      <th>25%</th>\n",
       "      <td>0.000000</td>\n",
       "      <td>-0.515317</td>\n",
       "      <td>0.000000</td>\n",
       "      <td>0.000000</td>\n",
       "      <td>-0.288115</td>\n",
       "      <td>0.00000</td>\n",
       "      <td>0.000000</td>\n",
       "      <td>0.000000</td>\n",
       "      <td>0.000000</td>\n",
       "      <td>0.000000</td>\n",
       "      <td>0.000000</td>\n",
       "    </tr>\n",
       "    <tr>\n",
       "      <th>50%</th>\n",
       "      <td>0.000000</td>\n",
       "      <td>0.000000</td>\n",
       "      <td>0.000000</td>\n",
       "      <td>0.000000</td>\n",
       "      <td>0.037466</td>\n",
       "      <td>0.00000</td>\n",
       "      <td>0.000000</td>\n",
       "      <td>1.000000</td>\n",
       "      <td>0.000000</td>\n",
       "      <td>0.000000</td>\n",
       "      <td>1.000000</td>\n",
       "    </tr>\n",
       "    <tr>\n",
       "      <th>75%</th>\n",
       "      <td>1.000000</td>\n",
       "      <td>0.484683</td>\n",
       "      <td>1.000000</td>\n",
       "      <td>1.000000</td>\n",
       "      <td>0.750000</td>\n",
       "      <td>0.00000</td>\n",
       "      <td>0.000000</td>\n",
       "      <td>1.000000</td>\n",
       "      <td>1.000000</td>\n",
       "      <td>0.000000</td>\n",
       "      <td>1.000000</td>\n",
       "    </tr>\n",
       "    <tr>\n",
       "      <th>max</th>\n",
       "      <td>1.000000</td>\n",
       "      <td>3.176991</td>\n",
       "      <td>4.000000</td>\n",
       "      <td>5.000000</td>\n",
       "      <td>10.984496</td>\n",
       "      <td>1.00000</td>\n",
       "      <td>1.000000</td>\n",
       "      <td>1.000000</td>\n",
       "      <td>1.000000</td>\n",
       "      <td>1.000000</td>\n",
       "      <td>1.000000</td>\n",
       "    </tr>\n",
       "  </tbody>\n",
       "</table>\n",
       "</div>"
      ],
      "text/plain": [
       "              Sex         Age       SibSp       Parch        Fare  Embarked_C  \\\n",
       "count  223.000000  223.000000  223.000000  223.000000  223.000000   223.00000   \n",
       "mean     0.381166    0.051358    0.430493    0.408072    0.791961     0.22870   \n",
       "std      0.486766    0.998803    0.801667    0.837912    1.930379     0.42094   \n",
       "min      0.000000   -2.220701    0.000000    0.000000   -0.637874     0.00000   \n",
       "25%      0.000000   -0.515317    0.000000    0.000000   -0.288115     0.00000   \n",
       "50%      0.000000    0.000000    0.000000    0.000000    0.037466     0.00000   \n",
       "75%      1.000000    0.484683    1.000000    1.000000    0.750000     0.00000   \n",
       "max      1.000000    3.176991    4.000000    5.000000   10.984496     1.00000   \n",
       "\n",
       "       Embarked_Q  Embarked_S    Pclass_1    Pclass_2    Pclass_3  \n",
       "count  223.000000  223.000000  223.000000  223.000000  223.000000  \n",
       "mean     0.085202    0.686099    0.286996    0.192825    0.520179  \n",
       "std      0.279810    0.465121    0.453377    0.395404    0.500717  \n",
       "min      0.000000    0.000000    0.000000    0.000000    0.000000  \n",
       "25%      0.000000    0.000000    0.000000    0.000000    0.000000  \n",
       "50%      0.000000    1.000000    0.000000    0.000000    1.000000  \n",
       "75%      0.000000    1.000000    1.000000    0.000000    1.000000  \n",
       "max      1.000000    1.000000    1.000000    1.000000    1.000000  "
      ]
     },
     "execution_count": 11,
     "metadata": {},
     "output_type": "execute_result"
    }
   ],
   "source": [
    "X_valid.describe()"
   ]
  },
  {
   "cell_type": "markdown",
   "id": "f9fc07fe",
   "metadata": {},
   "source": [
    "### Классификация с помощью  KNN"
   ]
  },
  {
   "cell_type": "code",
   "execution_count": 15,
   "id": "f484443b",
   "metadata": {},
   "outputs": [],
   "source": [
    "# Колличество соседий, по умолчанию равно 5\n",
    "k_vals = np.arange(2,10)"
   ]
  },
  {
   "cell_type": "code",
   "execution_count": 14,
   "id": "b0514522",
   "metadata": {},
   "outputs": [
    {
     "name": "stdout",
     "output_type": "stream",
     "text": [
      "n_neighbors=2\n",
      "\t acc_valid=0.8026905829596412\n",
      "\t acc_train=0.8832335329341318\n",
      " \n",
      "n_neighbors=3\n",
      "\t acc_valid=0.8161434977578476\n",
      "\t acc_train=0.8787425149700598\n",
      " \n",
      "n_neighbors=4\n",
      "\t acc_valid=0.7892376681614349\n",
      "\t acc_train=0.842814371257485\n",
      " \n",
      "n_neighbors=5\n",
      "\t acc_valid=0.8071748878923767\n",
      "\t acc_train=0.8622754491017964\n",
      " \n",
      "n_neighbors=6\n",
      "\t acc_valid=0.8251121076233184\n",
      "\t acc_train=0.8353293413173652\n",
      " \n",
      "n_neighbors=7\n",
      "\t acc_valid=0.7847533632286996\n",
      "\t acc_train=0.8323353293413174\n",
      " \n",
      "n_neighbors=8\n",
      "\t acc_valid=0.7757847533632287\n",
      "\t acc_train=0.8173652694610778\n",
      " \n",
      "n_neighbors=9\n",
      "\t acc_valid=0.7802690582959642\n",
      "\t acc_train=0.8173652694610778\n",
      " \n"
     ]
    }
   ],
   "source": [
    "accuracy_valid = []\n",
    "accuracy_train=[]\n",
    "for k_val in k_vals:\n",
    "    clf = KNeighborsClassifier(n_neighbors=k_val)\n",
    "    clf.fit(X_train,y_train)\n",
    "    y_pred=clf.predict(X_valid)\n",
    "    y_pred_train=clf.predict(X_train)\n",
    "    acc_valid = accuracy_score(y_valid,y_pred)\n",
    "    acc_train=accuracy_score(y_train,y_pred_train)\n",
    "    accuracy_valid.append(acc_valid)\n",
    "    accuracy_train.append(acc_train)\n",
    "    print(f'n_neighbors={k_val}\\n\\t acc_valid={acc_valid}\\n\\t acc_train={acc_train}\\n ')"
   ]
  },
  {
   "cell_type": "code",
   "execution_count": 20,
   "id": "7d4d265b",
   "metadata": {},
   "outputs": [
    {
     "data": {
      "text/plain": [
       "<matplotlib.legend.Legend at 0x7f8c6dacbd90>"
      ]
     },
     "execution_count": 20,
     "metadata": {},
     "output_type": "execute_result"
    },
    {
     "data": {
      "image/png": "[encoded data removed]",
      "text/plain": [
       "<Figure size 432x288 with 1 Axes>"
      ]
     },
     "metadata": {
      "needs_background": "light"
     },
     "output_type": "display_data"
    }
   ],
   "source": [
    "plt.plot(k_vals,accuracy_valid)\n",
    "plt.plot(k_vals,accuracy_train)\n",
    "plt.xlabel('Кол-во соседей')\n",
    "plt.ylabel('Accuracy')\n",
    "plt.legend(['valid','train'])"
   ]
  },
  {
   "cell_type": "code",
   "execution_count": 21,
   "id": "cc274475",
   "metadata": {},
   "outputs": [],
   "source": [
    "clf= KNeighborsClassifier(n_neighbors=6)"
   ]
  },
  {
   "cell_type": "code",
   "execution_count": 23,
   "id": "c2ee1132",
   "metadata": {},
   "outputs": [
    {
     "data": {
      "text/plain": [
       "KNeighborsClassifier(n_neighbors=6)"
      ]
     },
     "execution_count": 23,
     "metadata": {},
     "output_type": "execute_result"
    }
   ],
   "source": [
    "clf.fit(X_train,y_train)"
   ]
  },
  {
   "cell_type": "code",
   "execution_count": 24,
   "id": "17799b0b",
   "metadata": {},
   "outputs": [],
   "source": [
    "y_pred=clf.predict(X_valid)"
   ]
  },
  {
   "cell_type": "code",
   "execution_count": 25,
   "id": "3d564228",
   "metadata": {},
   "outputs": [
    {
     "data": {
      "text/plain": [
       "0.8251121076233184"
      ]
     },
     "execution_count": 25,
     "metadata": {},
     "output_type": "execute_result"
    }
   ],
   "source": [
    "accuracy_score(y_valid,y_pred)"
   ]
  },
  {
   "cell_type": "markdown",
   "id": "30965868",
   "metadata": {},
   "source": [
    "### Точность и полнота"
   ]
  },
  {
   "cell_type": "code",
   "execution_count": 26,
   "id": "7dd3028e",
   "metadata": {},
   "outputs": [
    {
     "data": {
      "text/plain": [
       "0    0.600897\n",
       "1    0.399103\n",
       "Name: Survived, dtype: float64"
      ]
     },
     "execution_count": 26,
     "metadata": {},
     "output_type": "execute_result"
    }
   ],
   "source": [
    "y_valid.value_counts(normalize=True)"
   ]
  },
  {
   "cell_type": "code",
   "execution_count": 27,
   "id": "cf2c606d",
   "metadata": {},
   "outputs": [],
   "source": [
    "from sklearn.metrics import confusion_matrix"
   ]
  },
  {
   "cell_type": "code",
   "execution_count": 28,
   "id": "66826fac",
   "metadata": {},
   "outputs": [
    {
     "data": {
      "text/plain": [
       "array([[123,  11],\n",
       "       [ 28,  61]])"
      ]
     },
     "execution_count": 28,
     "metadata": {},
     "output_type": "execute_result"
    }
   ],
   "source": [
    "confusion_matrix(y_valid,y_pred)"
   ]
  },
  {
   "cell_type": "markdown",
   "id": "7cd1603a",
   "metadata": {},
   "source": [
    "#### True Negative"
   ]
  },
  {
   "cell_type": "code",
   "execution_count": 30,
   "id": "ed670889",
   "metadata": {},
   "outputs": [
    {
     "data": {
      "text/plain": [
       "123"
      ]
     },
     "execution_count": 30,
     "metadata": {},
     "output_type": "execute_result"
    }
   ],
   "source": [
    "TN=((y_valid==0)&(y_pred==0)).sum()\n",
    "TN"
   ]
  },
  {
   "cell_type": "markdown",
   "id": "55faa4b3",
   "metadata": {},
   "source": [
    "#### False Positive"
   ]
  },
  {
   "cell_type": "code",
   "execution_count": 31,
   "id": "31d4b0af",
   "metadata": {},
   "outputs": [
    {
     "data": {
      "text/plain": [
       "11"
      ]
     },
     "execution_count": 31,
     "metadata": {},
     "output_type": "execute_result"
    }
   ],
   "source": [
    "FP =((y_valid==0)&(y_pred==1)).sum()\n",
    "FP"
   ]
  },
  {
   "cell_type": "markdown",
   "id": "ec478178",
   "metadata": {},
   "source": [
    "#### False Negative"
   ]
  },
  {
   "cell_type": "code",
   "execution_count": 33,
   "id": "d5661293",
   "metadata": {},
   "outputs": [
    {
     "data": {
      "text/plain": [
       "28"
      ]
     },
     "execution_count": 33,
     "metadata": {},
     "output_type": "execute_result"
    }
   ],
   "source": [
    "FN = ((y_valid==1)&(y_pred==0)).sum()\n",
    "FN"
   ]
  },
  {
   "cell_type": "markdown",
   "id": "368c224b",
   "metadata": {},
   "source": [
    "#### True Positive"
   ]
  },
  {
   "cell_type": "code",
   "execution_count": 34,
   "id": "6f4140c6",
   "metadata": {},
   "outputs": [
    {
     "data": {
      "text/plain": [
       "61"
      ]
     },
     "execution_count": 34,
     "metadata": {},
     "output_type": "execute_result"
    }
   ],
   "source": [
    "TP=((y_valid==1)&(y_pred==1)).sum()\n",
    "TP"
   ]
  },
  {
   "cell_type": "code",
   "execution_count": 38,
   "id": "bc0fc527",
   "metadata": {},
   "outputs": [
    {
     "data": {
      "text/plain": [
       "array([[0.55156951, 0.04932735],\n",
       "       [0.12556054, 0.2735426 ]])"
      ]
     },
     "execution_count": 38,
     "metadata": {},
     "output_type": "execute_result"
    }
   ],
   "source": [
    "# Normalized confusion matrix\n",
    "cm = confusion_matrix(y_valid,y_pred)/y_valid.shape[0]\n",
    "cm"
   ]
  },
  {
   "cell_type": "markdown",
   "id": "dcd6daad",
   "metadata": {},
   "source": [
    "#### Precision"
   ]
  },
  {
   "cell_type": "code",
   "execution_count": 40,
   "id": "f3962ee2",
   "metadata": {},
   "outputs": [
    {
     "data": {
      "text/plain": [
       "0.8472222222222222"
      ]
     },
     "execution_count": 40,
     "metadata": {},
     "output_type": "execute_result"
    }
   ],
   "source": [
    "Precision = TP/(TP+FP)\n",
    "Precision"
   ]
  },
  {
   "cell_type": "code",
   "execution_count": 41,
   "id": "55b2a03b",
   "metadata": {},
   "outputs": [],
   "source": [
    "from sklearn.metrics import precision_score"
   ]
  },
  {
   "cell_type": "code",
   "execution_count": 42,
   "id": "7e659a4a",
   "metadata": {},
   "outputs": [
    {
     "data": {
      "text/plain": [
       "0.8472222222222222"
      ]
     },
     "execution_count": 42,
     "metadata": {},
     "output_type": "execute_result"
    }
   ],
   "source": [
    "precision_score(y_valid,y_pred)"
   ]
  },
  {
   "cell_type": "markdown",
   "id": "ebdcd634",
   "metadata": {},
   "source": [
    "#### Recall"
   ]
  },
  {
   "cell_type": "code",
   "execution_count": 43,
   "id": "5bd3572f",
   "metadata": {},
   "outputs": [
    {
     "data": {
      "text/plain": [
       "0.6853932584269663"
      ]
     },
     "execution_count": 43,
     "metadata": {},
     "output_type": "execute_result"
    }
   ],
   "source": [
    "Recall = TP/(TP+FN)\n",
    "Recall"
   ]
  },
  {
   "cell_type": "code",
   "execution_count": 44,
   "id": "01735293",
   "metadata": {},
   "outputs": [],
   "source": [
    "from sklearn.metrics import recall_score"
   ]
  },
  {
   "cell_type": "code",
   "execution_count": 45,
   "id": "4bc5ba89",
   "metadata": {},
   "outputs": [
    {
     "data": {
      "text/plain": [
       "0.6853932584269663"
      ]
     },
     "execution_count": 45,
     "metadata": {},
     "output_type": "execute_result"
    }
   ],
   "source": [
    "recall_score(y_valid,y_pred)"
   ]
  },
  {
   "cell_type": "markdown",
   "id": "402a8fb1",
   "metadata": {},
   "source": [
    "#### F1 score"
   ]
  },
  {
   "cell_type": "code",
   "execution_count": 46,
   "id": "f62032ed",
   "metadata": {},
   "outputs": [
    {
     "data": {
      "text/plain": [
       "0.7577639751552795"
      ]
     },
     "execution_count": 46,
     "metadata": {},
     "output_type": "execute_result"
    }
   ],
   "source": [
    "F1 = 2*(Precision*Recall)/(Precision+Recall)\n",
    "F1"
   ]
  },
  {
   "cell_type": "code",
   "execution_count": 47,
   "id": "3ebfb33d",
   "metadata": {},
   "outputs": [],
   "source": [
    "from sklearn.metrics import f1_score"
   ]
  },
  {
   "cell_type": "code",
   "execution_count": 48,
   "id": "c0b43c60",
   "metadata": {},
   "outputs": [
    {
     "data": {
      "text/plain": [
       "0.7577639751552795"
      ]
     },
     "execution_count": 48,
     "metadata": {},
     "output_type": "execute_result"
    }
   ],
   "source": [
    "f1_score(y_valid,y_pred)"
   ]
  },
  {
   "cell_type": "markdown",
   "id": "caa57864",
   "metadata": {},
   "source": [
    "#### AUC"
   ]
  },
  {
   "cell_type": "code",
   "execution_count": 49,
   "id": "2d2a3106",
   "metadata": {},
   "outputs": [
    {
     "data": {
      "text/plain": [
       "array([[0.66666667, 0.33333333],\n",
       "       [0.83333333, 0.16666667],\n",
       "       [1.        , 0.        ],\n",
       "       [0.        , 1.        ],\n",
       "       [0.5       , 0.5       ],\n",
       "       [0.        , 1.        ],\n",
       "       [0.16666667, 0.83333333],\n",
       "       [0.83333333, 0.16666667],\n",
       "       [0.5       , 0.5       ],\n",
       "       [0.16666667, 0.83333333],\n",
       "       [0.66666667, 0.33333333],\n",
       "       [0.83333333, 0.16666667],\n",
       "       [0.83333333, 0.16666667],\n",
       "       [1.        , 0.        ],\n",
       "       [0.66666667, 0.33333333],\n",
       "       [0.        , 1.        ],\n",
       "       [0.66666667, 0.33333333],\n",
       "       [0.16666667, 0.83333333],\n",
       "       [1.        , 0.        ],\n",
       "       [0.83333333, 0.16666667],\n",
       "       [0.83333333, 0.16666667],\n",
       "       [0.5       , 0.5       ],\n",
       "       [0.66666667, 0.33333333],\n",
       "       [1.        , 0.        ],\n",
       "       [1.        , 0.        ],\n",
       "       [0.83333333, 0.16666667],\n",
       "       [0.66666667, 0.33333333],\n",
       "       [0.83333333, 0.16666667],\n",
       "       [0.66666667, 0.33333333],\n",
       "       [0.5       , 0.5       ],\n",
       "       [0.83333333, 0.16666667],\n",
       "       [0.33333333, 0.66666667],\n",
       "       [0.66666667, 0.33333333],\n",
       "       [0.5       , 0.5       ],\n",
       "       [0.83333333, 0.16666667],\n",
       "       [0.66666667, 0.33333333],\n",
       "       [0.5       , 0.5       ],\n",
       "       [0.16666667, 0.83333333],\n",
       "       [0.5       , 0.5       ],\n",
       "       [1.        , 0.        ],\n",
       "       [0.83333333, 0.16666667],\n",
       "       [0.83333333, 0.16666667],\n",
       "       [1.        , 0.        ],\n",
       "       [0.83333333, 0.16666667],\n",
       "       [0.5       , 0.5       ],\n",
       "       [0.83333333, 0.16666667],\n",
       "       [0.83333333, 0.16666667],\n",
       "       [1.        , 0.        ],\n",
       "       [0.83333333, 0.16666667],\n",
       "       [0.5       , 0.5       ],\n",
       "       [0.66666667, 0.33333333],\n",
       "       [0.5       , 0.5       ],\n",
       "       [1.        , 0.        ],\n",
       "       [0.33333333, 0.66666667],\n",
       "       [1.        , 0.        ],\n",
       "       [0.16666667, 0.83333333],\n",
       "       [0.66666667, 0.33333333],\n",
       "       [0.16666667, 0.83333333],\n",
       "       [0.        , 1.        ],\n",
       "       [0.33333333, 0.66666667],\n",
       "       [0.83333333, 0.16666667],\n",
       "       [0.        , 1.        ],\n",
       "       [0.33333333, 0.66666667],\n",
       "       [0.5       , 0.5       ],\n",
       "       [0.83333333, 0.16666667],\n",
       "       [0.33333333, 0.66666667],\n",
       "       [0.66666667, 0.33333333],\n",
       "       [1.        , 0.        ],\n",
       "       [0.66666667, 0.33333333],\n",
       "       [0.        , 1.        ],\n",
       "       [0.16666667, 0.83333333],\n",
       "       [0.16666667, 0.83333333],\n",
       "       [0.66666667, 0.33333333],\n",
       "       [0.        , 1.        ],\n",
       "       [1.        , 0.        ],\n",
       "       [1.        , 0.        ],\n",
       "       [0.16666667, 0.83333333],\n",
       "       [0.        , 1.        ],\n",
       "       [0.        , 1.        ],\n",
       "       [0.5       , 0.5       ],\n",
       "       [1.        , 0.        ],\n",
       "       [0.        , 1.        ],\n",
       "       [0.16666667, 0.83333333],\n",
       "       [0.83333333, 0.16666667],\n",
       "       [0.66666667, 0.33333333],\n",
       "       [0.66666667, 0.33333333],\n",
       "       [0.16666667, 0.83333333],\n",
       "       [0.16666667, 0.83333333],\n",
       "       [0.83333333, 0.16666667],\n",
       "       [0.83333333, 0.16666667],\n",
       "       [0.16666667, 0.83333333],\n",
       "       [0.66666667, 0.33333333],\n",
       "       [1.        , 0.        ],\n",
       "       [0.83333333, 0.16666667],\n",
       "       [1.        , 0.        ],\n",
       "       [0.83333333, 0.16666667],\n",
       "       [0.83333333, 0.16666667],\n",
       "       [0.83333333, 0.16666667],\n",
       "       [0.        , 1.        ],\n",
       "       [0.5       , 0.5       ],\n",
       "       [1.        , 0.        ],\n",
       "       [1.        , 0.        ],\n",
       "       [0.33333333, 0.66666667],\n",
       "       [0.83333333, 0.16666667],\n",
       "       [0.83333333, 0.16666667],\n",
       "       [0.66666667, 0.33333333],\n",
       "       [0.16666667, 0.83333333],\n",
       "       [0.5       , 0.5       ],\n",
       "       [0.83333333, 0.16666667],\n",
       "       [0.66666667, 0.33333333],\n",
       "       [0.16666667, 0.83333333],\n",
       "       [0.83333333, 0.16666667],\n",
       "       [0.16666667, 0.83333333],\n",
       "       [0.33333333, 0.66666667],\n",
       "       [0.16666667, 0.83333333],\n",
       "       [1.        , 0.        ],\n",
       "       [0.66666667, 0.33333333],\n",
       "       [0.66666667, 0.33333333],\n",
       "       [0.16666667, 0.83333333],\n",
       "       [0.66666667, 0.33333333],\n",
       "       [0.83333333, 0.16666667],\n",
       "       [0.        , 1.        ],\n",
       "       [0.33333333, 0.66666667],\n",
       "       [0.        , 1.        ],\n",
       "       [0.83333333, 0.16666667],\n",
       "       [0.66666667, 0.33333333],\n",
       "       [0.16666667, 0.83333333],\n",
       "       [0.16666667, 0.83333333],\n",
       "       [0.5       , 0.5       ],\n",
       "       [0.83333333, 0.16666667],\n",
       "       [0.16666667, 0.83333333],\n",
       "       [0.66666667, 0.33333333],\n",
       "       [1.        , 0.        ],\n",
       "       [0.5       , 0.5       ],\n",
       "       [0.33333333, 0.66666667],\n",
       "       [0.5       , 0.5       ],\n",
       "       [0.        , 1.        ],\n",
       "       [0.83333333, 0.16666667],\n",
       "       [0.83333333, 0.16666667],\n",
       "       [0.66666667, 0.33333333],\n",
       "       [1.        , 0.        ],\n",
       "       [0.33333333, 0.66666667],\n",
       "       [0.83333333, 0.16666667],\n",
       "       [0.83333333, 0.16666667],\n",
       "       [1.        , 0.        ],\n",
       "       [0.16666667, 0.83333333],\n",
       "       [0.83333333, 0.16666667],\n",
       "       [0.83333333, 0.16666667],\n",
       "       [0.16666667, 0.83333333],\n",
       "       [0.83333333, 0.16666667],\n",
       "       [0.83333333, 0.16666667],\n",
       "       [0.83333333, 0.16666667],\n",
       "       [1.        , 0.        ],\n",
       "       [0.33333333, 0.66666667],\n",
       "       [1.        , 0.        ],\n",
       "       [0.83333333, 0.16666667],\n",
       "       [0.33333333, 0.66666667],\n",
       "       [0.16666667, 0.83333333],\n",
       "       [0.33333333, 0.66666667],\n",
       "       [0.5       , 0.5       ],\n",
       "       [0.66666667, 0.33333333],\n",
       "       [0.5       , 0.5       ],\n",
       "       [0.66666667, 0.33333333],\n",
       "       [0.16666667, 0.83333333],\n",
       "       [0.83333333, 0.16666667],\n",
       "       [0.5       , 0.5       ],\n",
       "       [1.        , 0.        ],\n",
       "       [0.16666667, 0.83333333],\n",
       "       [1.        , 0.        ],\n",
       "       [1.        , 0.        ],\n",
       "       [0.16666667, 0.83333333],\n",
       "       [0.        , 1.        ],\n",
       "       [0.33333333, 0.66666667],\n",
       "       [0.5       , 0.5       ],\n",
       "       [1.        , 0.        ],\n",
       "       [1.        , 0.        ],\n",
       "       [1.        , 0.        ],\n",
       "       [0.        , 1.        ],\n",
       "       [0.16666667, 0.83333333],\n",
       "       [0.5       , 0.5       ],\n",
       "       [1.        , 0.        ],\n",
       "       [0.5       , 0.5       ],\n",
       "       [0.66666667, 0.33333333],\n",
       "       [0.66666667, 0.33333333],\n",
       "       [0.16666667, 0.83333333],\n",
       "       [0.5       , 0.5       ],\n",
       "       [0.66666667, 0.33333333],\n",
       "       [1.        , 0.        ],\n",
       "       [0.5       , 0.5       ],\n",
       "       [0.        , 1.        ],\n",
       "       [0.66666667, 0.33333333],\n",
       "       [0.83333333, 0.16666667],\n",
       "       [0.66666667, 0.33333333],\n",
       "       [0.83333333, 0.16666667],\n",
       "       [0.        , 1.        ],\n",
       "       [0.        , 1.        ],\n",
       "       [0.16666667, 0.83333333],\n",
       "       [0.83333333, 0.16666667],\n",
       "       [0.16666667, 0.83333333],\n",
       "       [0.66666667, 0.33333333],\n",
       "       [1.        , 0.        ],\n",
       "       [0.5       , 0.5       ],\n",
       "       [0.16666667, 0.83333333],\n",
       "       [1.        , 0.        ],\n",
       "       [0.66666667, 0.33333333],\n",
       "       [0.33333333, 0.66666667],\n",
       "       [0.83333333, 0.16666667],\n",
       "       [0.5       , 0.5       ],\n",
       "       [0.83333333, 0.16666667],\n",
       "       [1.        , 0.        ],\n",
       "       [0.16666667, 0.83333333],\n",
       "       [0.83333333, 0.16666667],\n",
       "       [0.16666667, 0.83333333],\n",
       "       [0.83333333, 0.16666667],\n",
       "       [0.83333333, 0.16666667],\n",
       "       [1.        , 0.        ],\n",
       "       [0.16666667, 0.83333333],\n",
       "       [0.16666667, 0.83333333],\n",
       "       [0.16666667, 0.83333333],\n",
       "       [0.83333333, 0.16666667],\n",
       "       [1.        , 0.        ],\n",
       "       [0.        , 1.        ],\n",
       "       [0.66666667, 0.33333333]])"
      ]
     },
     "execution_count": 49,
     "metadata": {},
     "output_type": "execute_result"
    }
   ],
   "source": [
    "y_pred_proba= clf.predict_proba(X_valid)\n",
    "y_pred_proba"
   ]
  },
  {
   "cell_type": "code",
   "execution_count": 50,
   "id": "e1260fc4",
   "metadata": {},
   "outputs": [
    {
     "data": {
      "text/plain": [
       "array([0.33333333, 0.16666667, 0.        , 1.        , 0.5       ,\n",
       "       1.        , 0.83333333, 0.16666667, 0.5       , 0.83333333,\n",
       "       0.33333333, 0.16666667, 0.16666667, 0.        , 0.33333333,\n",
       "       1.        , 0.33333333, 0.83333333, 0.        , 0.16666667,\n",
       "       0.16666667, 0.5       , 0.33333333, 0.        , 0.        ,\n",
       "       0.16666667, 0.33333333, 0.16666667, 0.33333333, 0.5       ,\n",
       "       0.16666667, 0.66666667, 0.33333333, 0.5       , 0.16666667,\n",
       "       0.33333333, 0.5       , 0.83333333, 0.5       , 0.        ,\n",
       "       0.16666667, 0.16666667, 0.        , 0.16666667, 0.5       ,\n",
       "       0.16666667, 0.16666667, 0.        , 0.16666667, 0.5       ,\n",
       "       0.33333333, 0.5       , 0.        , 0.66666667, 0.        ,\n",
       "       0.83333333, 0.33333333, 0.83333333, 1.        , 0.66666667,\n",
       "       0.16666667, 1.        , 0.66666667, 0.5       , 0.16666667,\n",
       "       0.66666667, 0.33333333, 0.        , 0.33333333, 1.        ,\n",
       "       0.83333333, 0.83333333, 0.33333333, 1.        , 0.        ,\n",
       "       0.        , 0.83333333, 1.        , 1.        , 0.5       ,\n",
       "       0.        , 1.        , 0.83333333, 0.16666667, 0.33333333,\n",
       "       0.33333333, 0.83333333, 0.83333333, 0.16666667, 0.16666667,\n",
       "       0.83333333, 0.33333333, 0.        , 0.16666667, 0.        ,\n",
       "       0.16666667, 0.16666667, 0.16666667, 1.        , 0.5       ,\n",
       "       0.        , 0.        , 0.66666667, 0.16666667, 0.16666667,\n",
       "       0.33333333, 0.83333333, 0.5       , 0.16666667, 0.33333333,\n",
       "       0.83333333, 0.16666667, 0.83333333, 0.66666667, 0.83333333,\n",
       "       0.        , 0.33333333, 0.33333333, 0.83333333, 0.33333333,\n",
       "       0.16666667, 1.        , 0.66666667, 1.        , 0.16666667,\n",
       "       0.33333333, 0.83333333, 0.83333333, 0.5       , 0.16666667,\n",
       "       0.83333333, 0.33333333, 0.        , 0.5       , 0.66666667,\n",
       "       0.5       , 1.        , 0.16666667, 0.16666667, 0.33333333,\n",
       "       0.        , 0.66666667, 0.16666667, 0.16666667, 0.        ,\n",
       "       0.83333333, 0.16666667, 0.16666667, 0.83333333, 0.16666667,\n",
       "       0.16666667, 0.16666667, 0.        , 0.66666667, 0.        ,\n",
       "       0.16666667, 0.66666667, 0.83333333, 0.66666667, 0.5       ,\n",
       "       0.33333333, 0.5       , 0.33333333, 0.83333333, 0.16666667,\n",
       "       0.5       , 0.        , 0.83333333, 0.        , 0.        ,\n",
       "       0.83333333, 1.        , 0.66666667, 0.5       , 0.        ,\n",
       "       0.        , 0.        , 1.        , 0.83333333, 0.5       ,\n",
       "       0.        , 0.5       , 0.33333333, 0.33333333, 0.83333333,\n",
       "       0.5       , 0.33333333, 0.        , 0.5       , 1.        ,\n",
       "       0.33333333, 0.16666667, 0.33333333, 0.16666667, 1.        ,\n",
       "       1.        , 0.83333333, 0.16666667, 0.83333333, 0.33333333,\n",
       "       0.        , 0.5       , 0.83333333, 0.        , 0.33333333,\n",
       "       0.66666667, 0.16666667, 0.5       , 0.16666667, 0.        ,\n",
       "       0.83333333, 0.16666667, 0.83333333, 0.16666667, 0.16666667,\n",
       "       0.        , 0.83333333, 0.83333333, 0.83333333, 0.16666667,\n",
       "       0.        , 1.        , 0.33333333])"
      ]
     },
     "execution_count": 50,
     "metadata": {},
     "output_type": "execute_result"
    }
   ],
   "source": [
    "y_pred_proba= y_pred_proba[:,1]\n",
    "y_pred_proba"
   ]
  },
  {
   "cell_type": "code",
   "execution_count": 58,
   "id": "13f5c313",
   "metadata": {},
   "outputs": [
    {
     "data": {
      "text/plain": [
       "Text(0, 0.5, 'Кол-во')"
      ]
     },
     "execution_count": 58,
     "metadata": {},
     "output_type": "execute_result"
    },
    {
     "data": {
      "image/png": "[encoded data removed]",
      "text/plain": [
       "<Figure size 432x288 with 1 Axes>"
      ]
     },
     "metadata": {
      "needs_background": "light"
     },
     "output_type": "display_data"
    }
   ],
   "source": [
    "plt.hist(y_pred_proba[y_valid==1],bins=7)\n",
    "plt.xlabel('Probability')\n",
    "plt.ylabel('Кол-во')"
   ]
  },
  {
   "cell_type": "code",
   "execution_count": 59,
   "id": "ec174fbb",
   "metadata": {},
   "outputs": [
    {
     "data": {
      "text/plain": [
       "Text(0, 0.5, 'Кол-во')"
      ]
     },
     "execution_count": 59,
     "metadata": {},
     "output_type": "execute_result"
    },
    {
     "data": {
      "image/png": "[encoded data removed]",
      "text/plain": [
       "<Figure size 432x288 with 1 Axes>"
      ]
     },
     "metadata": {
      "needs_background": "light"
     },
     "output_type": "display_data"
    }
   ],
   "source": [
    "plt.hist(y_pred_proba[y_valid==0],bins=7)\n",
    "plt.xlabel('Probability')\n",
    "plt.ylabel('Кол-во')"
   ]
  },
  {
   "cell_type": "code",
   "execution_count": 60,
   "id": "bff48331",
   "metadata": {},
   "outputs": [
    {
     "data": {
      "text/plain": [
       "<matplotlib.legend.Legend at 0x7f8c66fc4f70>"
      ]
     },
     "execution_count": 60,
     "metadata": {},
     "output_type": "execute_result"
    },
    {
     "data": {
      "image/png": "[encoded data removed]",
      "text/plain": [
       "<Figure size 432x288 with 1 Axes>"
      ]
     },
     "metadata": {
      "needs_background": "light"
     },
     "output_type": "display_data"
    }
   ],
   "source": [
    "plt.hist(y_pred_proba[y_valid == 1], bins=7, density=True, label='class 1', alpha=0.5)\n",
    "plt.hist(y_pred_proba[y_valid == 0], bins=7, density=True, label='class 0', alpha=0.5)\n",
    "\n",
    "plt.xlabel(\"Probability\")\n",
    "plt.ylabel(\"Density\")\n",
    "\n",
    "plt.legend()"
   ]
  },
  {
   "cell_type": "code",
   "execution_count": 61,
   "id": "cff216e7",
   "metadata": {},
   "outputs": [],
   "source": [
    "from sklearn.metrics import roc_curve"
   ]
  },
  {
   "cell_type": "code",
   "execution_count": 62,
   "id": "7ddd3172",
   "metadata": {},
   "outputs": [],
   "source": [
    "fpr, tpr, thresholds = roc_curve(y_valid,y_pred_proba,pos_label=1)"
   ]
  },
  {
   "cell_type": "code",
   "execution_count": 63,
   "id": "552d8d2d",
   "metadata": {},
   "outputs": [
    {
     "data": {
      "image/png": "[encoded data removed]",
      "text/plain": [
       "<Figure size 360x360 with 1 Axes>"
      ]
     },
     "metadata": {
      "needs_background": "light"
     },
     "output_type": "display_data"
    }
   ],
   "source": [
    "plt.rcParams['figure.figsize'] = 5, 5\n",
    "\n",
    "plt.plot(fpr, tpr)\n",
    "plt.plot([0, 1], [0, 1], color='grey', linestyle='dashed')\n",
    "\n",
    "plt.xlabel('False Positive Rate')\n",
    "plt.ylabel('True Positive Rate')\n",
    "plt.title('ROC curve')\n",
    "\n",
    "plt.show()"
   ]
  },
  {
   "cell_type": "code",
   "execution_count": 64,
   "id": "1bacddf8",
   "metadata": {},
   "outputs": [
    {
     "data": {
      "text/plain": [
       "0.8682710045279222"
      ]
     },
     "execution_count": 64,
     "metadata": {},
     "output_type": "execute_result"
    }
   ],
   "source": [
    "from sklearn.metrics import roc_auc_score\n",
    "\n",
    "roc_auc_score(y_valid, y_pred_proba)"
   ]
  },
  {
   "cell_type": "code",
   "execution_count": null,
   "id": "6f00f222",
   "metadata": {},
   "outputs": [],
   "source": []
  },
  {
   "cell_type": "code",
   "execution_count": null,
   "id": "52dff81f",
   "metadata": {},
   "outputs": [],
   "source": []
  },
  {
   "cell_type": "code",
   "execution_count": null,
   "id": "929496bf",
   "metadata": {},
   "outputs": [],
   "source": []
  },
  {
   "cell_type": "code",
   "execution_count": null,
   "id": "71b917de",
   "metadata": {},
   "outputs": [],
   "source": []
  },
  {
   "cell_type": "code",
   "execution_count": null,
   "id": "411071bf",
   "metadata": {},
   "outputs": [],
   "source": []
  },
  {
   "cell_type": "code",
   "execution_count": null,
   "id": "1b602cd8",
   "metadata": {},
   "outputs": [],
   "source": []
  },
  {
   "cell_type": "code",
   "execution_count": null,
   "id": "fa2a1046",
   "metadata": {},
   "outputs": [],
   "source": []
  },
  {
   "cell_type": "code",
   "execution_count": null,
   "id": "8a20e77d",
   "metadata": {},
   "outputs": [],
   "source": []
  },
  {
   "cell_type": "code",
   "execution_count": null,
   "id": "bcb3c308",
   "metadata": {},
   "outputs": [],
   "source": []
  },
  {
   "cell_type": "code",
   "execution_count": null,
   "id": "b435582f",
   "metadata": {},
   "outputs": [],
   "source": []
  },
  {
   "cell_type": "code",
   "execution_count": null,
   "id": "db04177a",
   "metadata": {},
   "outputs": [],
   "source": []
  },
  {
   "cell_type": "code",
   "execution_count": null,
   "id": "c9e5b567",
   "metadata": {},
   "outputs": [],
   "source": []
  },
  {
   "cell_type": "code",
   "execution_count": null,
   "id": "6590e27d",
   "metadata": {},
   "outputs": [],
   "source": []
  }
 ],
 "metadata": {
  "kernelspec": {
   "display_name": "Python 3 (ipykernel)",
   "language": "python",
   "name": "python3"
  },
  "language_info": {
   "codemirror_mode": {
    "name": "ipython",
    "version": 3
   },
   "file_extension": ".py",
   "mimetype": "text/x-python",
   "name": "python",
   "nbconvert_exporter": "python",
   "pygments_lexer": "ipython3",
   "version": "3.9.12"
  }
 },
 "nbformat": 4,
 "nbformat_minor": 5
}
