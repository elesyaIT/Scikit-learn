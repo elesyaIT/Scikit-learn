{
 "cells": [
  {
   "cell_type": "code",
   "execution_count": 1,
   "id": "01dc75c0",
   "metadata": {},
   "outputs": [],
   "source": [
    "import pandas as pd\n",
    "import numpy as np\n",
    "from sklearn.metrics import accuracy_score\n",
    "\n",
    "import matplotlib.pyplot as plt\n",
    "\n",
    "%matplotlib inline"
   ]
  },
  {
   "cell_type": "code",
   "execution_count": 2,
   "id": "8ba6c57e",
   "metadata": {},
   "outputs": [],
   "source": [
    "from sklearn.tree import DecisionTreeClassifier"
   ]
  },
  {
   "cell_type": "code",
   "execution_count": 3,
   "id": "e8081a7a",
   "metadata": {},
   "outputs": [],
   "source": [
    "X_train = pd.read_pickle('X_train.pkl')\n",
    "y_train = pd.read_pickle('y_train.pkl')\n",
    "\n",
    "X_valid = pd.read_pickle('X_valid.pkl')\n",
    "y_valid = pd.read_pickle('y_valid.pkl')"
   ]
  },
  {
   "cell_type": "code",
   "execution_count": 4,
   "id": "86a0b648",
   "metadata": {},
   "outputs": [
    {
     "data": {
      "text/plain": [
       "array([ 2,  3,  4,  5,  6,  7,  8,  9, 10, 11, 12, 13, 14, 15, 16, 17, 18,\n",
       "       19])"
      ]
     },
     "execution_count": 4,
     "metadata": {},
     "output_type": "execute_result"
    }
   ],
   "source": [
    "max_depth_arr=np.arange(2,20)\n",
    "max_depth_arr"
   ]
  },
  {
   "cell_type": "code",
   "execution_count": 5,
   "id": "7bcbbed8",
   "metadata": {},
   "outputs": [
    {
     "name": "stdout",
     "output_type": "stream",
     "text": [
      "val=2\n",
      "\tacc_valid=0.7757847533632287\n",
      "\tacc_train=0.8023952095808383\n",
      "\n",
      "val=3\n",
      "\tacc_valid=0.8026905829596412\n",
      "\tacc_train=0.8323353293413174\n",
      "\n",
      "val=4\n",
      "\tacc_valid=0.8071748878923767\n",
      "\tacc_train=0.842814371257485\n",
      "\n",
      "val=5\n",
      "\tacc_valid=0.7982062780269058\n",
      "\tacc_train=0.8502994011976048\n",
      "\n",
      "val=6\n",
      "\tacc_valid=0.7713004484304933\n",
      "\tacc_train=0.8577844311377245\n",
      "\n",
      "val=7\n",
      "\tacc_valid=0.8071748878923767\n",
      "\tacc_train=0.875748502994012\n",
      "\n",
      "val=8\n",
      "\tacc_valid=0.7623318385650224\n",
      "\tacc_train=0.8967065868263473\n",
      "\n",
      "val=9\n",
      "\tacc_valid=0.7713004484304933\n",
      "\tacc_train=0.9131736526946108\n",
      "\n",
      "val=10\n",
      "\tacc_valid=0.7443946188340808\n",
      "\tacc_train=0.9341317365269461\n",
      "\n",
      "val=11\n",
      "\tacc_valid=0.757847533632287\n",
      "\tacc_train=0.9491017964071856\n",
      "\n",
      "val=12\n",
      "\tacc_valid=0.7309417040358744\n",
      "\tacc_train=0.9580838323353293\n",
      "\n",
      "val=13\n",
      "\tacc_valid=0.7443946188340808\n",
      "\tacc_train=0.9700598802395209\n",
      "\n",
      "val=14\n",
      "\tacc_valid=0.7354260089686099\n",
      "\tacc_train=0.9760479041916168\n",
      "\n",
      "val=15\n",
      "\tacc_valid=0.7219730941704036\n",
      "\tacc_train=0.9790419161676647\n",
      "\n",
      "val=16\n",
      "\tacc_valid=0.726457399103139\n",
      "\tacc_train=0.9790419161676647\n",
      "\n",
      "val=17\n",
      "\tacc_valid=0.7399103139013453\n",
      "\tacc_train=0.9805389221556886\n",
      "\n",
      "val=18\n",
      "\tacc_valid=0.7219730941704036\n",
      "\tacc_train=0.9820359281437125\n",
      "\n",
      "val=19\n",
      "\tacc_valid=0.7219730941704036\n",
      "\tacc_train=0.9820359281437125\n",
      "\n"
     ]
    }
   ],
   "source": [
    "accuracy_valid = []\n",
    "accuracy_train = []\n",
    "for val in max_depth_arr:\n",
    "    clf = DecisionTreeClassifier(max_depth=val, random_state=42)\n",
    "    clf.fit(X_train,y_train)\n",
    "    y_pred=clf.predict(X_valid)\n",
    "    y_pred_train=clf.predict(X_train)\n",
    "    acc_valid= accuracy_score(y_valid,y_pred)\n",
    "    acc_train =accuracy_score(y_train,y_pred_train)\n",
    "    accuracy_valid.append(acc_valid)\n",
    "    accuracy_train.append(acc_train)\n",
    "    print(f'val={val}\\n\\tacc_valid={acc_valid}\\n\\tacc_train={acc_train}\\n')"
   ]
  },
  {
   "cell_type": "code",
   "execution_count": 6,
   "id": "80370813",
   "metadata": {},
   "outputs": [
    {
     "data": {
      "text/plain": [
       "<matplotlib.legend.Legend at 0x7f884b16bc10>"
      ]
     },
     "execution_count": 6,
     "metadata": {},
     "output_type": "execute_result"
    },
    {
     "data": {
      "image/png": "[encoded data removed]",
      "text/plain": [
       "<Figure size 432x288 with 1 Axes>"
      ]
     },
     "metadata": {
      "needs_background": "light"
     },
     "output_type": "display_data"
    }
   ],
   "source": [
    "plt.plot(max_depth_arr,accuracy_valid)\n",
    "plt.plot(max_depth_arr,accuracy_train)\n",
    "plt.xlabel('val')\n",
    "plt.ylabel('accuracy')\n",
    "plt.legend(['valid','train'])"
   ]
  },
  {
   "cell_type": "code",
   "execution_count": 19,
   "id": "37cf18a7",
   "metadata": {},
   "outputs": [],
   "source": [
    "clf = DecisionTreeClassifier(max_depth=7,random_state=42)"
   ]
  },
  {
   "cell_type": "code",
   "execution_count": 20,
   "id": "6eab6869",
   "metadata": {},
   "outputs": [
    {
     "data": {
      "text/plain": [
       "DecisionTreeClassifier(max_depth=7, random_state=42)"
      ]
     },
     "execution_count": 20,
     "metadata": {},
     "output_type": "execute_result"
    }
   ],
   "source": [
    "clf.fit(X_train, y_train)"
   ]
  },
  {
   "cell_type": "code",
   "execution_count": 21,
   "id": "960750b5",
   "metadata": {},
   "outputs": [],
   "source": [
    "y_pred=clf.predict(X_valid)"
   ]
  },
  {
   "cell_type": "code",
   "execution_count": 22,
   "id": "6e3bd13b",
   "metadata": {},
   "outputs": [
    {
     "data": {
      "text/plain": [
       "0.8071748878923767"
      ]
     },
     "execution_count": 22,
     "metadata": {},
     "output_type": "execute_result"
    }
   ],
   "source": [
    "accuracy_score(y_valid,y_pred)"
   ]
  },
  {
   "cell_type": "markdown",
   "id": "b29abc0c",
   "metadata": {},
   "source": [
    "### Random Forest"
   ]
  },
  {
   "cell_type": "code",
   "execution_count": 23,
   "id": "155b2c6b",
   "metadata": {},
   "outputs": [],
   "source": [
    "from sklearn.ensemble import RandomForestClassifier"
   ]
  },
  {
   "cell_type": "code",
   "execution_count": 24,
   "id": "909b3682",
   "metadata": {},
   "outputs": [],
   "source": [
    "from sklearn.model_selection import GridSearchCV"
   ]
  },
  {
   "cell_type": "code",
   "execution_count": 29,
   "id": "b7353ea6",
   "metadata": {},
   "outputs": [],
   "source": [
    "parametrs = [{'n_estimators':[150,200,250],\n",
    "             'max_features':np.arange(5,9),\n",
    "             'max_depth':np.arange(5,10)}]"
   ]
  },
  {
   "cell_type": "code",
   "execution_count": 30,
   "id": "4709e877",
   "metadata": {},
   "outputs": [],
   "source": [
    "clf = GridSearchCV(estimator=RandomForestClassifier(random_state=42),\n",
    "                  param_grid=parametrs,\n",
    "                  scoring='accuracy',\n",
    "                  cv=5)"
   ]
  },
  {
   "cell_type": "code",
   "execution_count": 31,
   "id": "f8b2fd6d",
   "metadata": {},
   "outputs": [
    {
     "data": {
      "text/plain": [
       "GridSearchCV(cv=5, estimator=RandomForestClassifier(random_state=42),\n",
       "             param_grid=[{'max_depth': array([5, 6, 7, 8, 9]),\n",
       "                          'max_features': array([5, 6, 7, 8]),\n",
       "                          'n_estimators': [150, 200, 250]}],\n",
       "             scoring='accuracy')"
      ]
     },
     "execution_count": 31,
     "metadata": {},
     "output_type": "execute_result"
    }
   ],
   "source": [
    "clf.fit(X_train,y_train)"
   ]
  },
  {
   "cell_type": "code",
   "execution_count": 32,
   "id": "f2329793",
   "metadata": {},
   "outputs": [
    {
     "data": {
      "text/plain": [
       "{'max_depth': 5, 'max_features': 5, 'n_estimators': 200}"
      ]
     },
     "execution_count": 32,
     "metadata": {},
     "output_type": "execute_result"
    }
   ],
   "source": [
    "clf.best_params_"
   ]
  },
  {
   "cell_type": "code",
   "execution_count": 33,
   "id": "6a26d32c",
   "metadata": {},
   "outputs": [
    {
     "data": {
      "text/plain": [
       "array([0, 0, 0, 1, 1, 1, 1, 0, 1, 1, 0, 0, 0, 0, 0, 1, 0, 1, 0, 0, 0, 0,\n",
       "       0, 0, 0, 0, 0, 0, 0, 0, 0, 1, 0, 1, 0, 0, 0, 1, 1, 0, 0, 0, 0, 0,\n",
       "       0, 0, 0, 0, 0, 0, 1, 1, 0, 1, 0, 1, 0, 1, 1, 1, 0, 1, 1, 0, 0, 1,\n",
       "       0, 0, 0, 1, 1, 1, 0, 1, 0, 0, 1, 1, 1, 0, 0, 1, 1, 0, 0, 0, 1, 1,\n",
       "       0, 0, 0, 0, 0, 0, 0, 0, 0, 0, 1, 0, 0, 0, 1, 0, 0, 0, 1, 0, 0, 0,\n",
       "       1, 0, 1, 0, 0, 0, 0, 0, 1, 0, 0, 1, 1, 1, 0, 0, 1, 0, 1, 0, 1, 0,\n",
       "       0, 1, 0, 1, 1, 0, 0, 0, 0, 1, 0, 0, 0, 1, 0, 0, 1, 0, 0, 0, 0, 1,\n",
       "       0, 0, 0, 1, 1, 1, 0, 0, 0, 1, 0, 0, 0, 1, 0, 0, 0, 1, 0, 1, 0, 0,\n",
       "       0, 1, 1, 0, 0, 0, 0, 0, 0, 0, 0, 0, 0, 1, 0, 0, 0, 0, 1, 1, 1, 0,\n",
       "       1, 0, 0, 0, 1, 0, 0, 1, 0, 0, 0, 0, 0, 0, 1, 0, 0, 1, 1, 0, 1, 0,\n",
       "       0, 1, 0])"
      ]
     },
     "execution_count": 33,
     "metadata": {},
     "output_type": "execute_result"
    }
   ],
   "source": [
    "pred = clf.predict(X_valid)\n",
    "pred"
   ]
  },
  {
   "cell_type": "code",
   "execution_count": 34,
   "id": "a2f073e5",
   "metadata": {},
   "outputs": [
    {
     "data": {
      "text/plain": [
       "0.8071748878923767"
      ]
     },
     "execution_count": 34,
     "metadata": {},
     "output_type": "execute_result"
    }
   ],
   "source": [
    "accuracy_score(y_valid,y_pred)"
   ]
  },
  {
   "cell_type": "markdown",
   "id": "80803bba",
   "metadata": {},
   "source": [
    "### Равносильно"
   ]
  },
  {
   "cell_type": "code",
   "execution_count": 35,
   "id": "92060dd3",
   "metadata": {},
   "outputs": [],
   "source": [
    "clf = RandomForestClassifier(n_estimators=200, max_depth=5,max_features=5,random_state=42)"
   ]
  },
  {
   "cell_type": "code",
   "execution_count": 36,
   "id": "aa44d47a",
   "metadata": {},
   "outputs": [
    {
     "data": {
      "text/plain": [
       "0.8071748878923767"
      ]
     },
     "execution_count": 36,
     "metadata": {},
     "output_type": "execute_result"
    }
   ],
   "source": [
    "clf.fit(X_train,y_train)\n",
    "pred= clf.predict(X_valid)\n",
    "accuracy_score(y_valid,y_pred)"
   ]
  },
  {
   "cell_type": "code",
   "execution_count": null,
   "id": "c8c4823b",
   "metadata": {},
   "outputs": [],
   "source": []
  }
 ],
 "metadata": {
  "kernelspec": {
   "display_name": "Python 3 (ipykernel)",
   "language": "python",
   "name": "python3"
  },
  "language_info": {
   "codemirror_mode": {
    "name": "ipython",
    "version": 3
   },
   "file_extension": ".py",
   "mimetype": "text/x-python",
   "name": "python",
   "nbconvert_exporter": "python",
   "pygments_lexer": "ipython3",
   "version": "3.9.12"
  }
 },
 "nbformat": 4,
 "nbformat_minor": 5
}
